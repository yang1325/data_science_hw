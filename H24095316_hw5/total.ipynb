{
 "cells": [
  {
   "cell_type": "code",
   "execution_count": 7,
   "id": "harmful-belize",
   "metadata": {},
   "outputs": [],
   "source": [
    "import pandas as pd\n",
    "import numpy as np"
   ]
  },
  {
   "cell_type": "code",
   "execution_count": 8,
   "id": "apart-implement",
   "metadata": {},
   "outputs": [
    {
     "name": "stdout",
     "output_type": "stream",
     "text": [
      "0.1705\n"
     ]
    }
   ],
   "source": [
    "data1 = pd.read_csv('first_try_2.csv')\n",
    "data2 = pd.read_csv('second_try.csv')\n",
    "data4 = pd.read_csv('4th_try.csv')\n",
    "predict = np.array(data1[\"Exited\"]) + np.array(data2[\"Exited\"]) + np.array(data4[\"Exited\"])\n",
    "predict[predict < 2] = 0\n",
    "predict[predict > 1] = 1\n",
    "print(predict.mean())"
   ]
  },
  {
   "cell_type": "code",
   "execution_count": 9,
   "id": "otherwise-quality",
   "metadata": {},
   "outputs": [],
   "source": [
    "Exited = predict\n",
    "RowNumber = data1[\"RowNumber\"]\n",
    "upload = np.array([RowNumber,Exited])\n",
    "upload = upload.transpose()\n",
    "upload = list(upload)\n",
    "upload\n",
    "x = pd.DataFrame(upload, columns = [\"RowNumber\", \"Exited\"])\n",
    "x.to_csv('total.csv')"
   ]
  },
  {
   "cell_type": "code",
   "execution_count": null,
   "id": "geographic-iraqi",
   "metadata": {},
   "outputs": [],
   "source": []
  }
 ],
 "metadata": {
  "kernelspec": {
   "display_name": "Python 3",
   "language": "python",
   "name": "python3"
  },
  "language_info": {
   "codemirror_mode": {
    "name": "ipython",
    "version": 3
   },
   "file_extension": ".py",
   "mimetype": "text/x-python",
   "name": "python",
   "nbconvert_exporter": "python",
   "pygments_lexer": "ipython3",
   "version": "3.9.2"
  }
 },
 "nbformat": 4,
 "nbformat_minor": 5
}
